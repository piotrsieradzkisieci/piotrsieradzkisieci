{
  "nbformat": 4,
  "nbformat_minor": 0,
  "metadata": {
    "colab": {
      "name": "Untitled1.ipynb",
      "provenance": [],
      "authorship_tag": "ABX9TyNWwHaqiRMNHdQ/Hdwej2Nm",
      "include_colab_link": true
    },
    "kernelspec": {
      "name": "python3",
      "display_name": "Python 3"
    }
  },
  "cells": [
    {
      "cell_type": "markdown",
      "metadata": {
        "id": "view-in-github",
        "colab_type": "text"
      },
      "source": [
        "<a href=\"https://colab.research.google.com/github/piotrsieradzkisieci/piotrsieradzkisieci/blob/piotrsieradzkisieci-patch-1/Untitled1.ipynb\" target=\"_parent\"><img src=\"https://colab.research.google.com/assets/colab-badge.svg\" alt=\"Open In Colab\"/></a>"
      ]
    },
    {
      "cell_type": "markdown",
      "metadata": {
        "id": "khBIxprufEne",
        "colab_type": "text"
      },
      "source": [
        "#Sieci - zajęcia 2 "
      ]
    },
    {
      "cell_type": "markdown",
      "metadata": {
        "id": "RyJ36Nm7fXAT",
        "colab_type": "text"
      },
      "source": [
        "Hejka hej hej "
      ]
    },
    {
      "cell_type": "code",
      "metadata": {
        "id": "VY-9e1Qvfpqr",
        "colab_type": "code",
        "colab": {}
      },
      "source": [
        "x = 10\n",
        "x = x + 7"
      ],
      "execution_count": 0,
      "outputs": []
    },
    {
      "cell_type": "code",
      "metadata": {
        "id": "CK3tRBTjft5A",
        "colab_type": "code",
        "colab": {
          "base_uri": "https://localhost:8080/",
          "height": 34
        },
        "outputId": "1b4ba617-9315-4df3-b7af-53b387600f1a"
      },
      "source": [
        "print (x)"
      ],
      "execution_count": 2,
      "outputs": [
        {
          "output_type": "stream",
          "text": [
            "17\n"
          ],
          "name": "stdout"
        }
      ]
    },
    {
      "cell_type": "code",
      "metadata": {
        "id": "_0Ryz0WYf3Dy",
        "colab_type": "code",
        "colab": {}
      },
      "source": [
        "y = 37\n",
        "y = y + 78"
      ],
      "execution_count": 0,
      "outputs": []
    },
    {
      "cell_type": "code",
      "metadata": {
        "id": "6CDd_t0UgMp7",
        "colab_type": "code",
        "colab": {
          "base_uri": "https://localhost:8080/",
          "height": 34
        },
        "outputId": "6b718f73-28d7-4b26-9e6c-c9b491e656b7"
      },
      "source": [
        "print (y)"
      ],
      "execution_count": 8,
      "outputs": [
        {
          "output_type": "stream",
          "text": [
            "115\n"
          ],
          "name": "stdout"
        }
      ]
    },
    {
      "cell_type": "code",
      "metadata": {
        "id": "Xf2P2AvzgaiQ",
        "colab_type": "code",
        "colab": {}
      },
      "source": [
        "a = \"shrek\" \n",
        "a = y * a "
      ],
      "execution_count": 0,
      "outputs": []
    },
    {
      "cell_type": "code",
      "metadata": {
        "id": "LDRpBuAegsam",
        "colab_type": "code",
        "colab": {
          "base_uri": "https://localhost:8080/",
          "height": 54
        },
        "outputId": "7c736b7f-f615-492e-80d8-1e0ccacf665b"
      },
      "source": [
        "print (a)"
      ],
      "execution_count": 10,
      "outputs": [
        {
          "output_type": "stream",
          "text": [
            "shrekshrekshrekshrekshrekshrekshrekshrekshrekshrekshrekshrekshrekshrekshrekshrekshrekshrekshrekshrekshrekshrekshrekshrekshrekshrekshrekshrekshrekshrekshrekshrekshrekshrekshrekshrekshrekshrekshrekshrekshrekshrekshrekshrekshrekshrekshrekshrekshrekshrekshrekshrekshrekshrekshrekshrekshrekshrekshrekshrekshrekshrekshrekshrekshrekshrekshrekshrekshrekshrekshrekshrekshrekshrekshrekshrekshrekshrekshrekshrekshrekshrekshrekshrekshrekshrekshrekshrekshrekshrekshrekshrekshrekshrekshrekshrekshrekshrekshrekshrekshrekshrekshrekshrekshrekshrekshrekshrekshrekshrekshrekshrekshrekshrekshrek\n"
          ],
          "name": "stdout"
        }
      ]
    },
    {
      "cell_type": "code",
      "metadata": {
        "id": "rhveZEABgxo5",
        "colab_type": "code",
        "colab": {}
      },
      "source": [
        "# można dodwać ciąg znaków, możemy pomnożyć ciąg znaków przez liczbę "
      ],
      "execution_count": 0,
      "outputs": []
    },
    {
      "cell_type": "code",
      "metadata": {
        "id": "7SFBJMLghrGD",
        "colab_type": "code",
        "colab": {}
      },
      "source": [
        "q = \"niedziela wieczór\" + \" humor popsuty\"\n"
      ],
      "execution_count": 0,
      "outputs": []
    },
    {
      "cell_type": "code",
      "metadata": {
        "id": "c2T8CxFwh_jD",
        "colab_type": "code",
        "colab": {
          "base_uri": "https://localhost:8080/",
          "height": 34
        },
        "outputId": "0f8ec66f-a190-4313-bdcc-f2c7f393c1a5"
      },
      "source": [
        "print (q)"
      ],
      "execution_count": 21,
      "outputs": [
        {
          "output_type": "stream",
          "text": [
            "niedziela wieczór humor popsuty\n"
          ],
          "name": "stdout"
        }
      ]
    },
    {
      "cell_type": "code",
      "metadata": {
        "id": "jipN0TxsiBJy",
        "colab_type": "code",
        "colab": {}
      },
      "source": [
        "_6 = 2 + 2\n"
      ],
      "execution_count": 0,
      "outputs": []
    },
    {
      "cell_type": "code",
      "metadata": {
        "id": "0ArItcRGil1y",
        "colab_type": "code",
        "colab": {}
      },
      "source": [
        "UwU = \"Dani Orli\""
      ],
      "execution_count": 0,
      "outputs": []
    },
    {
      "cell_type": "code",
      "metadata": {
        "id": "9bAmf6Usi0H1",
        "colab_type": "code",
        "colab": {
          "base_uri": "https://localhost:8080/",
          "height": 34
        },
        "outputId": "be6aacc9-043c-4cf5-d02b-ce63156bf8ba"
      },
      "source": [
        "print (UwU)"
      ],
      "execution_count": 28,
      "outputs": [
        {
          "output_type": "stream",
          "text": [
            "Dani Orli\n"
          ],
          "name": "stdout"
        }
      ]
    },
    {
      "cell_type": "code",
      "metadata": {
        "id": "zDU5ekZQjEoa",
        "colab_type": "code",
        "colab": {}
      },
      "source": [
        "# wielkość zaków ma znaczenie "
      ],
      "execution_count": 0,
      "outputs": []
    },
    {
      "cell_type": "markdown",
      "metadata": {
        "id": "B2dhnneljmk0",
        "colab_type": "text"
      },
      "source": [
        "PODSTAWOWE OPERACJE ARTMETYCZNE\n",
        "‒\tDodawanie \t+\n",
        "o\tx += 7 oznacza x = x+7\n",
        "‒\tOdejmowanie\t-\n",
        "‒\tMnożenie\t*\n",
        "‒\tDzielenie\t/\n",
        "‒\tModulo\t%\n",
        "‒\tPotęga\t\t**\n",
        "‒\tDzielenie bez reszty\t//\n",
        "NAZWY ZMIENNYCH\n",
        "‒\tMuszą zaczynać się od litery lub podkreślenia\n",
        "‒\tMogą zawierać litery, cyfry, podkreślenia (bez polskich znaków)\n",
        "‒\tWielkość znaków ma znaczenie\n",
        "‒\tPewne słowa są zarezerwowane np. do funkcji i metod  tych zarezerwowanych słów nie stosuje się do nazywania zmiennych\n",
        "‒\tNazwy zmiennych mają nieść znaczenie!\n"
      ]
    },
    {
      "cell_type": "code",
      "metadata": {
        "id": "L8WtvPIwjtCn",
        "colab_type": "code",
        "colab": {
          "base_uri": "https://localhost:8080/",
          "height": 34
        },
        "outputId": "babedee6-5c90-4561-b1a9-f4a6519b31ae"
      },
      "source": [
        "type(3)"
      ],
      "execution_count": 31,
      "outputs": [
        {
          "output_type": "execute_result",
          "data": {
            "text/plain": [
              "int"
            ]
          },
          "metadata": {
            "tags": []
          },
          "execution_count": 31
        }
      ]
    },
    {
      "cell_type": "code",
      "metadata": {
        "id": "0gONvpWJlF9Z",
        "colab_type": "code",
        "colab": {
          "base_uri": "https://localhost:8080/",
          "height": 34
        },
        "outputId": "5459c8df-67c3-4346-e824-e1fd8f544681"
      },
      "source": [
        "type(7.5)"
      ],
      "execution_count": 33,
      "outputs": [
        {
          "output_type": "execute_result",
          "data": {
            "text/plain": [
              "float"
            ]
          },
          "metadata": {
            "tags": []
          },
          "execution_count": 33
        }
      ]
    },
    {
      "cell_type": "code",
      "metadata": {
        "id": "cfBOu0nylKag",
        "colab_type": "code",
        "colab": {
          "base_uri": "https://localhost:8080/",
          "height": 34
        },
        "outputId": "ec5e325c-0453-4026-a1fc-5869706b8b25"
      },
      "source": [
        "type(\"corgi\")"
      ],
      "execution_count": 35,
      "outputs": [
        {
          "output_type": "execute_result",
          "data": {
            "text/plain": [
              "str"
            ]
          },
          "metadata": {
            "tags": []
          },
          "execution_count": 35
        }
      ]
    },
    {
      "cell_type": "code",
      "metadata": {
        "id": "G3okvj84lNqg",
        "colab_type": "code",
        "colab": {
          "base_uri": "https://localhost:8080/",
          "height": 34
        },
        "outputId": "0d133e1c-7fd8-4885-e48f-998352733e8e"
      },
      "source": [
        "obecnosc = True\n",
        "type (obecnosc)"
      ],
      "execution_count": 36,
      "outputs": [
        {
          "output_type": "execute_result",
          "data": {
            "text/plain": [
              "bool"
            ]
          },
          "metadata": {
            "tags": []
          },
          "execution_count": 36
        }
      ]
    },
    {
      "cell_type": "code",
      "metadata": {
        "id": "gJuHwnVGloGa",
        "colab_type": "code",
        "colab": {
          "base_uri": "https://localhost:8080/",
          "height": 34
        },
        "outputId": "e5ec41e0-0960-495d-cf3b-9d715a59f710"
      },
      "source": [
        "1 == 1"
      ],
      "execution_count": 42,
      "outputs": [
        {
          "output_type": "execute_result",
          "data": {
            "text/plain": [
              "True"
            ]
          },
          "metadata": {
            "tags": []
          },
          "execution_count": 42
        }
      ]
    },
    {
      "cell_type": "code",
      "metadata": {
        "id": "t05GuHv-l7fD",
        "colab_type": "code",
        "colab": {
          "base_uri": "https://localhost:8080/",
          "height": 34
        },
        "outputId": "1d2525ab-3210-49e5-badc-df81076660f2"
      },
      "source": [
        "2 == 3"
      ],
      "execution_count": 43,
      "outputs": [
        {
          "output_type": "execute_result",
          "data": {
            "text/plain": [
              "False"
            ]
          },
          "metadata": {
            "tags": []
          },
          "execution_count": 43
        }
      ]
    },
    {
      "cell_type": "code",
      "metadata": {
        "id": "ed16vFB7mG6c",
        "colab_type": "code",
        "colab": {
          "base_uri": "https://localhost:8080/",
          "height": 34
        },
        "outputId": "30bf53da-e778-4aca-87a3-6f644286ebb6"
      },
      "source": [
        "3 != 1"
      ],
      "execution_count": 44,
      "outputs": [
        {
          "output_type": "execute_result",
          "data": {
            "text/plain": [
              "True"
            ]
          },
          "metadata": {
            "tags": []
          },
          "execution_count": 44
        }
      ]
    },
    {
      "cell_type": "code",
      "metadata": {
        "id": "yZcsbWn-mNDU",
        "colab_type": "code",
        "colab": {
          "base_uri": "https://localhost:8080/",
          "height": 34
        },
        "outputId": "c4ee9356-9b83-42cf-af6a-38eea732cd45"
      },
      "source": [
        "3 > 2"
      ],
      "execution_count": 45,
      "outputs": [
        {
          "output_type": "execute_result",
          "data": {
            "text/plain": [
              "True"
            ]
          },
          "metadata": {
            "tags": []
          },
          "execution_count": 45
        }
      ]
    },
    {
      "cell_type": "code",
      "metadata": {
        "id": "ZvtvI3GVmPzr",
        "colab_type": "code",
        "colab": {
          "base_uri": "https://localhost:8080/",
          "height": 34
        },
        "outputId": "52efe33b-2472-482c-bb43-94402e40107e"
      },
      "source": [
        "3 <= 4"
      ],
      "execution_count": 46,
      "outputs": [
        {
          "output_type": "execute_result",
          "data": {
            "text/plain": [
              "True"
            ]
          },
          "metadata": {
            "tags": []
          },
          "execution_count": 46
        }
      ]
    },
    {
      "cell_type": "code",
      "metadata": {
        "id": "fgyR1GjdmTWt",
        "colab_type": "code",
        "colab": {
          "base_uri": "https://localhost:8080/",
          "height": 34
        },
        "outputId": "178a3e39-6a00-427b-ffb8-7abdab06b3fd"
      },
      "source": [
        "UwU == Shrek"
      ],
      "execution_count": 47,
      "outputs": [
        {
          "output_type": "execute_result",
          "data": {
            "text/plain": [
              "False"
            ]
          },
          "metadata": {
            "tags": []
          },
          "execution_count": 47
        }
      ]
    },
    {
      "cell_type": "code",
      "metadata": {
        "id": "cGS8_2kBmd4O",
        "colab_type": "code",
        "colab": {
          "base_uri": "https://localhost:8080/",
          "height": 34
        },
        "outputId": "0f769479-873c-40ad-cc25-4dd0324a2010"
      },
      "source": [
        "\"UwU\" == \"uwu\""
      ],
      "execution_count": 48,
      "outputs": [
        {
          "output_type": "execute_result",
          "data": {
            "text/plain": [
              "False"
            ]
          },
          "metadata": {
            "tags": []
          },
          "execution_count": 48
        }
      ]
    },
    {
      "cell_type": "markdown",
      "metadata": {
        "id": "PV1jBuKtmv6Y",
        "colab_type": "text"
      },
      "source": [
        "OPERACJE LOGICZNE\n",
        "‒\tporównanie ==\n",
        "‒\tmniejsze niż <\n",
        "‒\tmniejsze niż lub równe <=\n",
        "‒\tnierówne !=\n"
      ]
    },
    {
      "cell_type": "markdown",
      "metadata": {
        "id": "wEf0A4_wnXUz",
        "colab_type": "text"
      },
      "source": [
        "Return the length (the number of items) of an object. The argument may be a sequence (such as a string, bytes, tuple, list, or range) or a collection (such as a dictionary, set, or frozen set)."
      ]
    },
    {
      "cell_type": "code",
      "metadata": {
        "id": "UAEo_aCTm0PQ",
        "colab_type": "code",
        "colab": {
          "base_uri": "https://localhost:8080/",
          "height": 34
        },
        "outputId": "94baddad-9aee-40d4-cb0a-15c83e3c981d"
      },
      "source": [
        "len (\"sieci\")"
      ],
      "execution_count": 53,
      "outputs": [
        {
          "output_type": "execute_result",
          "data": {
            "text/plain": [
              "5"
            ]
          },
          "metadata": {
            "tags": []
          },
          "execution_count": 53
        }
      ]
    },
    {
      "cell_type": "code",
      "metadata": {
        "id": "bne8_JUcnTpK",
        "colab_type": "code",
        "colab": {
          "base_uri": "https://localhost:8080/",
          "height": 34
        },
        "outputId": "b12dd476-6fee-48e0-ae22-4ff955c6a363"
      },
      "source": [
        "len (\"       \")"
      ],
      "execution_count": 54,
      "outputs": [
        {
          "output_type": "execute_result",
          "data": {
            "text/plain": [
              "7"
            ]
          },
          "metadata": {
            "tags": []
          },
          "execution_count": 54
        }
      ]
    },
    {
      "cell_type": "code",
      "metadata": {
        "id": "caUofiFYnoKb",
        "colab_type": "code",
        "colab": {
          "base_uri": "https://localhost:8080/",
          "height": 34
        },
        "outputId": "f9f09465-809a-43d7-90a1-945cf84ccf36"
      },
      "source": [
        "#tworzymy listę, len liczy liczbę pozycji nawias [] lista\n",
        "org = [\"Dog Rescue\", \"Cat Rescue\", \"Parot Rescue\",]\n",
        "len (org)"
      ],
      "execution_count": 56,
      "outputs": [
        {
          "output_type": "execute_result",
          "data": {
            "text/plain": [
              "3"
            ]
          },
          "metadata": {
            "tags": []
          },
          "execution_count": 56
        }
      ]
    },
    {
      "cell_type": "code",
      "metadata": {
        "id": "EUYOIFjDoNSd",
        "colab_type": "code",
        "colab": {
          "base_uri": "https://localhost:8080/",
          "height": 34
        },
        "outputId": "492d7ff2-c4e0-41c7-c813-864f331c24d2"
      },
      "source": [
        "if \"niedziela wieczór\" != \"dobry humor\": print(\"humor popsuty\")"
      ],
      "execution_count": 59,
      "outputs": [
        {
          "output_type": "stream",
          "text": [
            "humor popsuty\n"
          ],
          "name": "stdout"
        }
      ]
    },
    {
      "cell_type": "code",
      "metadata": {
        "id": "dFNCQJbQpeEq",
        "colab_type": "code",
        "colab": {}
      },
      "source": [
        ""
      ],
      "execution_count": 0,
      "outputs": []
    }
  ]
}